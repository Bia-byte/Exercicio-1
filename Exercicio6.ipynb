{
  "nbformat": 4,
  "nbformat_minor": 0,
  "metadata": {
    "colab": {
      "provenance": [],
      "authorship_tag": "ABX9TyOX+eRRaF7KFrP3CYJJ2o4p",
      "include_colab_link": true
    },
    "kernelspec": {
      "name": "python3",
      "display_name": "Python 3"
    },
    "language_info": {
      "name": "python"
    }
  },
  "cells": [
    {
      "cell_type": "markdown",
      "metadata": {
        "id": "view-in-github",
        "colab_type": "text"
      },
      "source": [
        "<a href=\"https://colab.research.google.com/github/Bia-byte/Lista-1/blob/main/Exercicio6.ipynb\" target=\"_parent\"><img src=\"https://colab.research.google.com/assets/colab-badge.svg\" alt=\"Open In Colab\"/></a>"
      ]
    },
    {
      "cell_type": "code",
      "execution_count": null,
      "metadata": {
        "colab": {
          "base_uri": "https://localhost:8080/"
        },
        "id": "zeSHU3JpklZR",
        "outputId": "355e8a7a-0581-4e9d-d07b-bc1b5ebdd91c"
      },
      "outputs": [
        {
          "output_type": "stream",
          "name": "stdout",
          "text": [
            "Requirement already satisfied: numpy in /usr/local/lib/python3.11/dist-packages (2.0.2)\n",
            "Requirement already satisfied: matplotlib in /usr/local/lib/python3.11/dist-packages (3.10.0)\n",
            "Requirement already satisfied: contourpy>=1.0.1 in /usr/local/lib/python3.11/dist-packages (from matplotlib) (1.3.1)\n",
            "Requirement already satisfied: cycler>=0.10 in /usr/local/lib/python3.11/dist-packages (from matplotlib) (0.12.1)\n",
            "Requirement already satisfied: fonttools>=4.22.0 in /usr/local/lib/python3.11/dist-packages (from matplotlib) (4.56.0)\n",
            "Requirement already satisfied: kiwisolver>=1.3.1 in /usr/local/lib/python3.11/dist-packages (from matplotlib) (1.4.8)\n",
            "Requirement already satisfied: numpy>=1.23 in /usr/local/lib/python3.11/dist-packages (from matplotlib) (2.0.2)\n",
            "Requirement already satisfied: packaging>=20.0 in /usr/local/lib/python3.11/dist-packages (from matplotlib) (24.2)\n",
            "Requirement already satisfied: pillow>=8 in /usr/local/lib/python3.11/dist-packages (from matplotlib) (11.1.0)\n",
            "Requirement already satisfied: pyparsing>=2.3.1 in /usr/local/lib/python3.11/dist-packages (from matplotlib) (3.2.1)\n",
            "Requirement already satisfied: python-dateutil>=2.7 in /usr/local/lib/python3.11/dist-packages (from matplotlib) (2.8.2)\n",
            "Requirement already satisfied: six>=1.5 in /usr/local/lib/python3.11/dist-packages (from python-dateutil>=2.7->matplotlib) (1.17.0)\n"
          ]
        }
      ],
      "source": [
        "!pip install numpy\n",
        "!pip install matplotlib"
      ]
    },
    {
      "cell_type": "code",
      "source": [
        "# Exercicio 6 - letra A\n",
        "\n",
        "import numpy as np\n",
        "\n",
        "N = 10000  # número de experimentos\n",
        "p = 1/6    # probabilidade de sucesso\n",
        "count = 0  # conta quantos experimentos tiveram 3 lançamentos até sair o número 5\n",
        "x = 3      # número de tentativas\n",
        "\n",
        "for _ in range(N): # loop para N experimentos\n",
        "    i = 0          # inicializa o contador de tentativas do experimento em 0\n",
        "    while True:    # continua gerando números até sair o número 5\n",
        "        i += 1     # incrementa o número de tentativas do experimento\n",
        "        dado = np.random.randint(1, 7)  # valores aleatórios entre 1 e 6 simulando o dado\n",
        "        if dado == 5:  # se saiu 5, paramos\n",
        "            break\n",
        "    if i == 3:         # se o número de lançamentos foi 3, conta\n",
        "        count += 1\n",
        "\n",
        "# prob. simulada divide o número de experimentos em que o evento ocorreu no 3º lançamento (count) pelo total de experimentos (N).\n",
        "prob_simulada = count / N\n",
        "# pro. teorica usa a fórmula da distribuição discreta geométrica  f(x)=p*(1-p)**x-1\n",
        "prob_teorica = (1 - p)**(x - 1) * p\n",
        "\n",
        "print(f\"Prob. simulada de X=3: {prob_simulada:.4f}\")\n",
        "print(f\"Prob. teórica de X=3: {prob_teorica:.4f}\")\n"
      ],
      "metadata": {
        "colab": {
          "base_uri": "https://localhost:8080/"
        },
        "id": "18yWM7fvk2KW",
        "outputId": "acf93bd1-588d-46f7-bcd8-8162a50bc8cf"
      },
      "execution_count": 3,
      "outputs": [
        {
          "output_type": "stream",
          "name": "stdout",
          "text": [
            "Prob. simulada de X=3: 0.1174\n",
            "Prob. teórica de X=3: 0.1157\n"
          ]
        }
      ]
    },
    {
      "cell_type": "code",
      "source": [
        "# Exercicio 6 - letra B\n",
        "\n",
        "import numpy as np\n",
        "\n",
        "N = 10000  # número de experimentos\n",
        "p = 1/6    # probabilidade de sucesso\n",
        "count = 0  # conta quantos experimentos tiveram 3 lançamentos até sair o número 5\n",
        "x = 4      # número de tentativas\n",
        "\n",
        "for _ in range(N): # loop para N experimentos\n",
        "    i = 0          # inicializa o contador de tentativas do experimento em 0\n",
        "    while True:    # continua gerando números até sair o número 5\n",
        "        i += 1     # incrementa o número de tentativas do experimento\n",
        "        dado = np.random.randint(1, 7)  # valores aleatórios entre 1 e 6 simulando o dado\n",
        "        if dado == 5:  # se saiu 5, paramos\n",
        "            break\n",
        "    # Se X>=4 significa que o jogador não ganhou nos 3 primeiros lançamentos, precisou de pelo menos 4 lançamentos\n",
        "    if i >= 4:\n",
        "        count += 1\n",
        "\n",
        "# prob. simulada divide o número de experimentos em que o evento ocorreu do 4º lançamento (count) para cima pelo total de experimentos (N).\n",
        "prob_simulada = count / N\n",
        "# pro. teorica usa a fórmula f(x)= (1-p)**x-1, pois os lançamentos são independentes, como queremos a prob. de acertar na quarta tentativa\n",
        "# em diante, significa que errou nos três primeiros lançamentos ou seja (1-p) * (1-p) * (1-p) = (1-p)**3\n",
        "prob_teorica = (1-p)**(x-1)\n",
        "\n",
        "print(f\"Prob. simulada de X>4: {prob_simulada:.4f}\")\n",
        "print(f\"Prob. teórica de X>4: {prob_teorica:.4f}\")\n"
      ],
      "metadata": {
        "colab": {
          "base_uri": "https://localhost:8080/"
        },
        "id": "Xk4gJmC6r55Y",
        "outputId": "ae5e8615-7829-43ea-c834-16c381eaea33"
      },
      "execution_count": 8,
      "outputs": [
        {
          "output_type": "stream",
          "name": "stdout",
          "text": [
            "Prob. simulada de X>4: 0.5826\n",
            "Prob. teórica de X>4: 0.5787\n"
          ]
        }
      ]
    },
    {
      "cell_type": "code",
      "source": [
        "# Exercicio 6 - letra C\n",
        "\n",
        "import numpy as np\n",
        "\n",
        "p = 1/6      #Probabilidade de acerto\n",
        "media = 1/p  # Média é o inverso da probabilidade de acerto\n",
        "desvio_padrao = np.sqrt((1-p)/(p**2)) # Desvio padrão é a raiz quadrada da probabilidade de erro dividido pela probabilidade de acerto ao quadrado\n",
        "\n",
        "print(\"A média de forma analítica é \", media)\n",
        "print(\"O desvio padrão de forma analítica é \", desvio_padrao)\n",
        "\n",
        "N = 100000  # Número de amostras para simulação\n",
        "lancamentos = [] # Variável para armazenar os valores de X (número de lançamentos até sair '5')\n",
        "\n",
        "for _ in range(N): # loop para N experimentos\n",
        "    i = 0          # inicializa o contador de tentativas do experimento em 0\n",
        "    while True:    # continua gerando números até sair o número 5\n",
        "        i += 1     # incrementa o número de tentativas do experimento\n",
        "        dado = np.random.randint(1, 7)  # valores aleatórios entre 1 e 6 simulando o dado\n",
        "        if dado == 5:  # se saiu 5, paramos\n",
        "            break\n",
        "    lancamentos.append(i)  # Adiciona o número de lançamentos ao vetor\n",
        "\n",
        "# Cálculo da média e do desvio padrão simulados\n",
        "media_simulada = np.mean(lancamentos)\n",
        "desvio_padrao_simulado = np.std(lancamentos)\n",
        "\n",
        "print(\"A média de forma simulada é \", media_simulada)\n",
        "print(\"O desvio padrão de forma simulada é \", desvio_padrao_simulado)"
      ],
      "metadata": {
        "colab": {
          "base_uri": "https://localhost:8080/"
        },
        "id": "aljZQI5UtSG0",
        "outputId": "f9f05284-464c-4cbd-c250-ee918787df1b"
      },
      "execution_count": 10,
      "outputs": [
        {
          "output_type": "stream",
          "name": "stdout",
          "text": [
            "A média de forma analítica é  6.0\n",
            "O desvio padrão de forma analítica é  5.477225575051661\n",
            "A média de forma simulada é  5.99511\n",
            "O desvio padrão de forma simulada é  5.503448563210162\n"
          ]
        }
      ]
    }
  ]
}