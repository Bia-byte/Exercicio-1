{
  "nbformat": 4,
  "nbformat_minor": 0,
  "metadata": {
    "colab": {
      "provenance": [],
      "authorship_tag": "ABX9TyM89B2xZsegYJRIzO9P5XIa",
      "include_colab_link": true
    },
    "kernelspec": {
      "name": "python3",
      "display_name": "Python 3"
    },
    "language_info": {
      "name": "python"
    }
  },
  "cells": [
    {
      "cell_type": "markdown",
      "metadata": {
        "id": "view-in-github",
        "colab_type": "text"
      },
      "source": [
        "<a href=\"https://colab.research.google.com/github/Bia-byte/Exercicio-1/blob/main/Exercicio6.ipynb\" target=\"_parent\"><img src=\"https://colab.research.google.com/assets/colab-badge.svg\" alt=\"Open In Colab\"/></a>"
      ]
    },
    {
      "cell_type": "code",
      "execution_count": 1,
      "metadata": {
        "colab": {
          "base_uri": "https://localhost:8080/"
        },
        "id": "zeSHU3JpklZR",
        "outputId": "355e8a7a-0581-4e9d-d07b-bc1b5ebdd91c"
      },
      "outputs": [
        {
          "output_type": "stream",
          "name": "stdout",
          "text": [
            "Requirement already satisfied: numpy in /usr/local/lib/python3.11/dist-packages (2.0.2)\n",
            "Requirement already satisfied: matplotlib in /usr/local/lib/python3.11/dist-packages (3.10.0)\n",
            "Requirement already satisfied: contourpy>=1.0.1 in /usr/local/lib/python3.11/dist-packages (from matplotlib) (1.3.1)\n",
            "Requirement already satisfied: cycler>=0.10 in /usr/local/lib/python3.11/dist-packages (from matplotlib) (0.12.1)\n",
            "Requirement already satisfied: fonttools>=4.22.0 in /usr/local/lib/python3.11/dist-packages (from matplotlib) (4.56.0)\n",
            "Requirement already satisfied: kiwisolver>=1.3.1 in /usr/local/lib/python3.11/dist-packages (from matplotlib) (1.4.8)\n",
            "Requirement already satisfied: numpy>=1.23 in /usr/local/lib/python3.11/dist-packages (from matplotlib) (2.0.2)\n",
            "Requirement already satisfied: packaging>=20.0 in /usr/local/lib/python3.11/dist-packages (from matplotlib) (24.2)\n",
            "Requirement already satisfied: pillow>=8 in /usr/local/lib/python3.11/dist-packages (from matplotlib) (11.1.0)\n",
            "Requirement already satisfied: pyparsing>=2.3.1 in /usr/local/lib/python3.11/dist-packages (from matplotlib) (3.2.1)\n",
            "Requirement already satisfied: python-dateutil>=2.7 in /usr/local/lib/python3.11/dist-packages (from matplotlib) (2.8.2)\n",
            "Requirement already satisfied: six>=1.5 in /usr/local/lib/python3.11/dist-packages (from python-dateutil>=2.7->matplotlib) (1.17.0)\n"
          ]
        }
      ],
      "source": [
        "!pip install numpy\n",
        "!pip install matplotlib"
      ]
    },
    {
      "cell_type": "code",
      "source": [
        "# Exercicio 6 - letra A\n",
        "\n",
        "import numpy as np\n",
        "\n",
        "N = 10000  # número de experimentos\n",
        "p = 1/6\n",
        "count = 0\n",
        "\n",
        "for _ in range(N):\n",
        "    # Gera o número de lançamentos até sair '5'\n",
        "    i = 0\n",
        "    while True:\n",
        "        i += 1\n",
        "        dado = np.random.randint(1, 7)  # valor entre 1 e 6\n",
        "        if dado == 5:\n",
        "            # Se saiu 5, paramos\n",
        "            break\n",
        "    # Se o número de lançamentos foi 3, conta\n",
        "    if i == 3:\n",
        "        count += 1\n",
        "\n",
        "prob_simulada = count / N\n",
        "prob_teorica = (1 - p)**(2) * p\n",
        "\n",
        "print(f\"Prob. simulada de X=3:   {prob_simulada:.4f}\")\n",
        "print(f\"Prob. teórica de X=3:    {prob_teorica:.4f}\")\n"
      ],
      "metadata": {
        "colab": {
          "base_uri": "https://localhost:8080/"
        },
        "id": "18yWM7fvk2KW",
        "outputId": "885bce97-1e3c-4233-876a-9e632334a111"
      },
      "execution_count": 10,
      "outputs": [
        {
          "output_type": "stream",
          "name": "stdout",
          "text": [
            "Prob. simulada de X=3:   0.1089\n",
            "Prob. teórica de X=3:    0.1157\n"
          ]
        }
      ]
    },
    {
      "cell_type": "code",
      "source": [
        "# Exercicio 6 - letra B\n",
        "\n",
        "import numpy as np\n",
        "\n",
        "N = 1000000\n",
        "p = 1/6\n",
        "count = 0\n",
        "\n",
        "for _ in range(N):\n",
        "    i = 0\n",
        "    while True:\n",
        "        i += 1\n",
        "        dado = np.random.randint(1,7)\n",
        "        if dado == 5:\n",
        "            break\n",
        "    # Se X>4 significa que o jogador não ganhou nos 4 primeiros lançamentos\n",
        "    if i > 4:\n",
        "        count += 1\n",
        "\n",
        "prob_simulada = count / N\n",
        "prob_teorica = (1-p)**(3)\n",
        "\n",
        "print(f\"Prob. simulada de X>4:   {prob_simulada:.4f}\")\n",
        "print(f\"Prob. teórica de X>4:    {prob_teorica:.4f}\")\n",
        "\n"
      ],
      "metadata": {
        "colab": {
          "base_uri": "https://localhost:8080/"
        },
        "id": "Xk4gJmC6r55Y",
        "outputId": "87e9cc62-986a-491b-cbb5-54f42b1a134a"
      },
      "execution_count": 18,
      "outputs": [
        {
          "output_type": "stream",
          "name": "stdout",
          "text": [
            "Prob. simulada de X>4:   0.4825\n",
            "Prob. teórica de X>4:    0.5787\n"
          ]
        }
      ]
    },
    {
      "cell_type": "code",
      "source": [
        "# Exercicio 6 - letra C\n",
        "\n",
        "import numpy as np\n",
        "\n",
        "p = 1/6\n",
        "media = 1/p\n",
        "desvio_padrao = np.sqrt((1-p)/(p**2))\n",
        "\n",
        "print(\"A média é \", media)\n",
        "print(\"O desvio padrão é \", desvio_padrao)"
      ],
      "metadata": {
        "colab": {
          "base_uri": "https://localhost:8080/"
        },
        "id": "aljZQI5UtSG0",
        "outputId": "55765b0d-85ff-4780-af56-6a3b5b6a13d8"
      },
      "execution_count": 16,
      "outputs": [
        {
          "output_type": "stream",
          "name": "stdout",
          "text": [
            "A média é  6.0\n",
            "O desvio padrão é  5.477225575051661\n"
          ]
        }
      ]
    }
  ]
}