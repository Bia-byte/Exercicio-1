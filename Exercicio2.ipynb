{
  "nbformat": 4,
  "nbformat_minor": 0,
  "metadata": {
    "colab": {
      "provenance": [],
      "include_colab_link": true
    },
    "kernelspec": {
      "name": "python3",
      "display_name": "Python 3"
    },
    "language_info": {
      "name": "python"
    }
  },
  "cells": [
    {
      "cell_type": "markdown",
      "metadata": {
        "id": "view-in-github",
        "colab_type": "text"
      },
      "source": [
        "<a href=\"https://colab.research.google.com/github/Bia-byte/Exercicio-1/blob/main/Exercicio2.ipynb\" target=\"_parent\"><img src=\"https://colab.research.google.com/assets/colab-badge.svg\" alt=\"Open In Colab\"/></a>"
      ]
    },
    {
      "cell_type": "code",
      "execution_count": 2,
      "metadata": {
        "id": "UinCIGjWhQy3",
        "outputId": "59559e1b-b072-4c26-9c85-1c857abd2f90",
        "colab": {
          "base_uri": "https://localhost:8080/"
        }
      },
      "outputs": [
        {
          "output_type": "stream",
          "name": "stdout",
          "text": [
            "Requirement already satisfied: numpy in /usr/local/lib/python3.11/dist-packages (2.0.2)\n"
          ]
        }
      ],
      "source": [
        "!pip install numpy"
      ]
    },
    {
      "cell_type": "code",
      "source": [
        "# Exercício 2 - letra A\n",
        "import numpy as np\n",
        "\n",
        "lambda1 = 3    # Número médio de requisições (taxa Poisson)\n",
        "N = 100000     # Número de amostras (simulações)\n",
        "value = 5      # Queremos a probabilidade de X = 5\n",
        "count = 0\n",
        "av = np.array([])\n",
        "\n",
        "# Gera N valores uniformes no intervalo [0,1]\n",
        "x = np.random.uniform(0, 1, N)\n",
        "\n",
        "for ix in x:\n",
        "    i = 0\n",
        "    # Probabilidade de X=0\n",
        "    pr = np.exp(-lambda1)\n",
        "    # Soma cumulativa\n",
        "    F = pr\n",
        "\n",
        "    # Método de inversão\n",
        "    while ix >= F:\n",
        "        # Atualiza a probabilidade p(X=i+1)\n",
        "        pr = (lambda1 / (i + 1)) * pr\n",
        "        F += pr\n",
        "        i += 1\n",
        "\n",
        "    # 'i' é o valor de X gerado\n",
        "    av = np.append(av, i)\n",
        "\n",
        "# Conta quantos valores foram = value (= 5)\n",
        "for expvalue in av:\n",
        "    if expvalue == value:\n",
        "        count += 1\n",
        "\n",
        "prob = count / N\n",
        "\n",
        "# Exibe o resultado\n",
        "print(f\"Probabilidade de X = 5 (simulada) = {prob:.4f}\")\n"
      ],
      "metadata": {
        "id": "cVTRKAQChRyg",
        "outputId": "7d17c68d-6125-469a-fa50-61c1a851da42",
        "colab": {
          "base_uri": "https://localhost:8080/"
        }
      },
      "execution_count": 27,
      "outputs": [
        {
          "output_type": "stream",
          "name": "stdout",
          "text": [
            "Probabilidade de X = 5 (simulada) = 0.1009\n"
          ]
        }
      ]
    },
    {
      "cell_type": "code",
      "source": [
        "# Exercício 2 - letra B\n",
        "\n",
        "import numpy as np\n",
        "\n",
        "lambda1 = 3    # Número médio de requisições (taxa Poisson)\n",
        "N = 100000     # Número de amostras (simulações)\n",
        "value = 2      # Queremos a probabilidade de X <= 2\n",
        "count = 0\n",
        "av = np.array([])\n",
        "\n",
        "# Gera N valores uniformes no intervalo [0,1]\n",
        "x = np.random.uniform(0, 1, N)\n",
        "\n",
        "for ix in x:\n",
        "    i = 0\n",
        "    # Probabilidade de X=0\n",
        "    pr = np.exp(-lambda1)\n",
        "    # Soma cumulativa\n",
        "    F = pr\n",
        "\n",
        "    # Método de inversão\n",
        "    while ix >= F:\n",
        "        # Atualiza a probabilidade p(X=i+1)\n",
        "        pr = (lambda1 / (i + 1)) * pr\n",
        "        F += pr\n",
        "        i += 1\n",
        "\n",
        "    # 'i' é o valor de X gerado\n",
        "    av = np.append(av, i)\n",
        "\n",
        "# Conta quantos valores foram <= value (no máximo 2)\n",
        "for expvalue in av:\n",
        "    if expvalue <= value:\n",
        "        count += 1\n",
        "\n",
        "prob = count / N\n",
        "\n",
        "# Exibe o resultado\n",
        "print(f\"Probabilidade de X <= 2 (simulada) = {prob:.4f}\")\n"
      ],
      "metadata": {
        "id": "EA4ot_mNAUqc",
        "outputId": "cb8580f1-785e-4b9b-9566-14845abaef01",
        "colab": {
          "base_uri": "https://localhost:8080/"
        }
      },
      "execution_count": 32,
      "outputs": [
        {
          "output_type": "stream",
          "name": "stdout",
          "text": [
            "Probabilidade de X <= 2 (simulada) = 0.4245\n"
          ]
        }
      ]
    }
  ]
}