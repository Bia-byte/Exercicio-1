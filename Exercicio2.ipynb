{
  "nbformat": 4,
  "nbformat_minor": 0,
  "metadata": {
    "colab": {
      "provenance": [],
      "include_colab_link": true
    },
    "kernelspec": {
      "name": "python3",
      "display_name": "Python 3"
    },
    "language_info": {
      "name": "python"
    }
  },
  "cells": [
    {
      "cell_type": "markdown",
      "metadata": {
        "id": "view-in-github",
        "colab_type": "text"
      },
      "source": [
        "<a href=\"https://colab.research.google.com/github/Bia-byte/Exercicio-1/blob/main/Exercicio2.ipynb\" target=\"_parent\"><img src=\"https://colab.research.google.com/assets/colab-badge.svg\" alt=\"Open In Colab\"/></a>"
      ]
    },
    {
      "cell_type": "code",
      "execution_count": null,
      "metadata": {
        "id": "UinCIGjWhQy3",
        "outputId": "59559e1b-b072-4c26-9c85-1c857abd2f90",
        "colab": {
          "base_uri": "https://localhost:8080/"
        }
      },
      "outputs": [
        {
          "output_type": "stream",
          "name": "stdout",
          "text": [
            "Requirement already satisfied: numpy in /usr/local/lib/python3.11/dist-packages (2.0.2)\n"
          ]
        }
      ],
      "source": [
        "!pip install numpy"
      ]
    },
    {
      "cell_type": "code",
      "source": [
        "# Exercício 2 - letra A\n",
        "import numpy as np\n",
        "\n",
        "lambda1 = 3          # Número médio de requisições (taxa Poisson) [chamadas/minuto]\n",
        "N = 100000           # Número de amostras\n",
        "value = 5            # Queremos a probabilidade de X = 5\n",
        "count = 0            # Contador para contar quantas vezes X = 5\n",
        "av = np.array([])    # Vetor para armazenar os valores gerados de X\n",
        "x = np.random.uniform(0, 1, N) # Gera N valores uniformes no intervalo [0,1]\n",
        "\n",
        "# Loop para gerar os valores de X usando o método de inversão da CDF da Poisson\n",
        "for ix in x:\n",
        "    i = 0\n",
        "    pr = np.exp(-lambda1)  # Probabilidade de X=0 calculada por exp(-lambda), pois (lambda^0)/0! = 1\n",
        "    F = pr                 # Inicializa a soma cumulativa da CDF com a probabilidade de X=0\n",
        "\n",
        "    # Método de inversão\n",
        "    while ix >= F: # mantém somando as probabilidades até que a soma cumulativa seja maior que o valor ix\n",
        "        pr = (lambda1 / (i + 1)) * pr # Calcula a probabilidade de p(X = i+1) usando a fórmula de recorrência da Poisson\n",
        "        F += pr # Atualiza a soma cumulativa\n",
        "        i += 1  # Incrementa o valor de i, que representa o valor de X gerado\n",
        "\n",
        "    av = np.append(av, i) # 'i' é o valor de X gerado\n",
        "\n",
        "# Conta quantos valores foram = value (= 5)\n",
        "for expvalue in av:\n",
        "    if expvalue == value:\n",
        "        count += 1\n",
        "\n",
        "# Calcula a probabilidade de X = 5 dividindo o número de vezes que X = 5 ocorreu pelo número total de amostras\n",
        "prob = count / N\n",
        "\n",
        "# Calculo do fatorial para a probabilidade analitica\n",
        "fatorial = 1               # Inicializa a variável que armazenará o fatorial\n",
        "for i in range(1, value + 1):  # Laço para multiplicar todos os números de 1 até value = 5\n",
        "    fatorial *= i              # Multiplica o fatorial pelo valor atual de i\n",
        "prob_analitica = (lambda1**value) * np.exp(-lambda1)/fatorial\n",
        "\n",
        "# Exibe o resultado\n",
        "print(f\"Probabilidade de X = 5 (simulada) = {prob:.4f}\")\n",
        "print(\"Probabilidade analítica\", prob_analitica)\n",
        "\n"
      ],
      "metadata": {
        "id": "cVTRKAQChRyg",
        "outputId": "c4546972-9958-461e-ad51-7ddfc6ea1657",
        "colab": {
          "base_uri": "https://localhost:8080/"
        }
      },
      "execution_count": null,
      "outputs": [
        {
          "output_type": "stream",
          "name": "stdout",
          "text": [
            "Probabilidade de X = 5 (simulada) = 0.0994\n",
            "Probabilidade analítica 0.10081881344492448\n"
          ]
        }
      ]
    },
    {
      "cell_type": "code",
      "source": [
        "# Exercício 2 - letra A\n",
        "import numpy as np\n",
        "\n",
        "lambda1 = 3          # Número médio de requisições (taxa Poisson) [chamadas/minuto]\n",
        "N = 100000           # Número de amostras\n",
        "value = 2            # Queremos a probabilidade de X <= 2\n",
        "count = 0            # Contador para contar quantas vezes X <= 2\n",
        "av = np.array([])    # Vetor para armazenar os valores gerados de X\n",
        "x = np.random.uniform(0, 1, N) # Gera N valores uniformes no intervalo [0,1]\n",
        "\n",
        "# Loop para gerar os valores de X usando o método de inversão da CDF da Poisson\n",
        "for ix in x:\n",
        "    i = 0\n",
        "    pr = np.exp(-lambda1)  # Probabilidade de X=0 calculada por exp(-lambda), pois (lambda^0)/0! = 1\n",
        "    F = pr                 # Inicializa a soma cumulativa da CDF com a probabilidade de X=0\n",
        "\n",
        "    # Método de inversão\n",
        "    while ix >= F: # mantém somando as probabilidades até que a soma cumulativa seja maior que o valor ix\n",
        "        pr = (lambda1 / (i + 1)) * pr # Calcula a probabilidade de p(X = i+1) usando a fórmula de recorrência da Poisson\n",
        "        F += pr # Atualiza a soma cumulativa\n",
        "        i += 1  # Incrementa o valor de i, que representa o valor de X gerado\n",
        "\n",
        "    av = np.append(av, i) # 'i' é o valor de X gerado\n",
        "\n",
        "# Conta quantos valores foram = value (<= 2)\n",
        "for expvalue in av:\n",
        "    if expvalue <= value:\n",
        "        count += 1\n",
        "\n",
        "# Calcula a probabilidade de X <= 2 dividindo o número de vezes que X <= 2 ocorreu pelo número total de amostras\n",
        "prob = count / N\n",
        "\n",
        "# Inicializa a variável para a soma das probabilidades\n",
        "prob_analitica = 0\n",
        "for x in range(value + 1):  # Para X = 0, 1, 2\n",
        "    fatorial = 1  # Inicializa o fatorial\n",
        "    for i in range(1, x + 1):  # Calcula o fatorial de X\n",
        "        fatorial *= i  # Multiplica o fatorial pelo valor atual de i\n",
        "    prob_analitica += (lambda1**x) * np.exp(-lambda1) / fatorial # Soma a probabilidade de X = x\n",
        "\n",
        "\n",
        "# Exibe o resultado\n",
        "print(f\"Probabilidade de X <= 2 (simulada) = {prob:.4f}\")\n",
        "print(\"Probabilidade analítica\", prob_analitica)\n",
        "\n"
      ],
      "metadata": {
        "id": "EA4ot_mNAUqc",
        "outputId": "31edb2f8-4ac1-499b-d690-cf4468f4b685",
        "colab": {
          "base_uri": "https://localhost:8080/"
        }
      },
      "execution_count": 1,
      "outputs": [
        {
          "output_type": "stream",
          "name": "stdout",
          "text": [
            "Probabilidade de X <= 2 (simulada) = 0.4236\n",
            "Probabilidade analítica 0.42319008112684353\n"
          ]
        }
      ]
    }
  ]
}