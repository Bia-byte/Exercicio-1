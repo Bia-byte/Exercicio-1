{
  "nbformat": 4,
  "nbformat_minor": 0,
  "metadata": {
    "colab": {
      "provenance": [],
      "include_colab_link": true
    },
    "kernelspec": {
      "name": "python3",
      "display_name": "Python 3"
    },
    "language_info": {
      "name": "python"
    }
  },
  "cells": [
    {
      "cell_type": "markdown",
      "metadata": {
        "id": "view-in-github",
        "colab_type": "text"
      },
      "source": [
        "<a href=\"https://colab.research.google.com/github/Bia-byte/Exercicio-1/blob/main/Exercicio3.ipynb\" target=\"_parent\"><img src=\"https://colab.research.google.com/assets/colab-badge.svg\" alt=\"Open In Colab\"/></a>"
      ]
    },
    {
      "cell_type": "code",
      "execution_count": null,
      "metadata": {
        "id": "UinCIGjWhQy3",
        "colab": {
          "base_uri": "https://localhost:8080/"
        },
        "outputId": "32ec5d26-d260-44f0-e2b7-8345c1eb8b3c"
      },
      "outputs": [
        {
          "output_type": "stream",
          "name": "stdout",
          "text": [
            "Requirement already satisfied: numpy in /usr/local/lib/python3.11/dist-packages (2.0.2)\n"
          ]
        }
      ],
      "source": [
        "!pip install numpy"
      ]
    },
    {
      "cell_type": "code",
      "source": [
        "# Exercício 3 - letra A\n",
        "\n",
        "import numpy as np\n",
        "\n",
        "q=0.25    # Probabilidade de acerto\n",
        "n=10      # Número de tentativas\n",
        "value=3   # Número de acertos\n",
        "N=100000  # Número de amostras\n",
        "x = value + 1  # Número de sucessos desejados (value + 1, pois estamos contando falhas antes do sucesso)\n",
        "\n",
        "c = q/(1-q)                 # constante utilizada no cálculo da distribuição binomial\n",
        "av=np.array([])             # cria um array vazio para armazenar os valores simulados dos acertos\n",
        "count=0                     # contar quantos resultados foram exatamente 3 acertos\n",
        "x=np.random.uniform(0,1,N)  # gera N números aleatórios uniformemente distribuídos no intervalo [0, 1]\n",
        "\n",
        "\n",
        "# Loop para gerar os valores dos acertos usando a distribuição binomial\n",
        "for ix in x:             # para cada valor aleatório gerado\n",
        "    i = 0                # inicializa o número de acertos, contagem em 0\n",
        "    pr = pow((1 - q),n)  # a primeira probabilidade corresponde ao número de falhas (1 - q)^n antes de obter o primeiro acerto\n",
        "    F = pr               # soma acumulada F com a primeira probabilidade\n",
        "    while ix>=F:         # enquanto a soma acumulada F for menor que o valor gerado ix, aumenta o número de acertos\n",
        "        pr = (c * (n - i) / (i + 1))* pr;  # atualiza a probabilidade de um novo número de acertos\n",
        "        F = F + pr;                        # atualiza a soma acumulada F\n",
        "        i = i + 1;                         # atualiza o número de acertos\n",
        "    a1=i                                   # armazena o número final de acertos para a amostra i\n",
        "    av=np.append(av,a1)                    # adiciona o número de acertos gerado à lista de resultados (av)\n",
        "\n",
        "for binvalue in av:       # para cada valor gerado em av\n",
        "    if binvalue==value:   # verifica se o valor é igual ao número de acertos\n",
        "        count=count+1     # se sim, soma o contador\n",
        "\n",
        "\n",
        "# Calcula a probabilidade de ter exatamente 'value' acertos dividindo a contagem pelo número total de amostras\n",
        "prob=count/N\n",
        "\n",
        "# Calculo teórico\n",
        "# C(n, x) = n! / [x! * (n-x)!]\n",
        "fatorial_n = 1  # Inicializa a variável do fatorial\n",
        "fatorial_x = 1  # Inicializa a variável do fatorial\n",
        "fatorial_nx = 1 # Inicializa a variável do fatorial\n",
        "\n",
        "# Calculo de n!\n",
        "for i in range(1, n + 1):\n",
        "    fatorial_n *= i  # Multiplica o fatorial pelo valor atual de i\n",
        "# Calculo de x!\n",
        "for i in range(1, value + 1):\n",
        "    fatorial_x *= i  # Multiplica o fatorial pelo valor atual de i\n",
        "# Calculo de (n - x)!\n",
        "for i in range(1, (n - value) + 1):\n",
        "    fatorial_nx *= i  # Multiplica o fatorial pelo valor atual de i\n",
        "\n",
        "# Aplicação da fórmula da distribuição binomial\n",
        "prob_analitica = (fatorial_n / (fatorial_x * fatorial_nx)) * (q**value) * ((1 - q)**(n - value))\n",
        "\n",
        "# Exibe o resultado\n",
        "print(\"a probabilidade simulada e\",prob)\n",
        "print(\"a probabilidade analitica e\",prob_analitica)"
      ],
      "metadata": {
        "id": "cVTRKAQChRyg",
        "colab": {
          "base_uri": "https://localhost:8080/"
        },
        "outputId": "5ff62496-9eb5-4dea-dd48-830822f9f17b"
      },
      "execution_count": 8,
      "outputs": [
        {
          "output_type": "stream",
          "name": "stdout",
          "text": [
            "a probabilidade simulada e 0.249\n",
            "a probabilidade analitica e 0.25028228759765625\n"
          ]
        }
      ]
    },
    {
      "cell_type": "code",
      "source": [
        "# Exercício 3 - letra B\n",
        "\n",
        "import numpy as np\n",
        "\n",
        "q=0.25    # Probabilidade de acerto\n",
        "n=10      # Número de tentativas\n",
        "value=2   # Número de acertos\n",
        "N=100000  # Número de amostras\n",
        "prob_analitica = 0  # Inicializa a soma das probabilidades\n",
        "\n",
        "c = q/(1-q)                 # constante utilizada no cálculo da distribuição binomial\n",
        "av=np.array([])             # cria um array vazio para armazenar os valores simulados dos acertos\n",
        "count=0                     # contar quantos resultados foram exatamente 3 acertos\n",
        "x=np.random.uniform(0,1,N)  # gera N números aleatórios uniformemente distribuídos no intervalo [0, 1]\n",
        "\n",
        "\n",
        "# Loop para gerar os valores dos acertos usando a distribuição binomial\n",
        "for ix in x:             # para cada valor aleatório gerado\n",
        "    i = 0                # inicializa o número de acertos, contagem em 0\n",
        "    pr = pow((1 - q),n)  # a primeira probabilidade corresponde ao número de falhas (1 - q)^n antes de obter o primeiro acerto\n",
        "    F = pr               # soma acumulada F com a primeira probabilidade\n",
        "    while ix>=F:         # enquanto a soma acumulada F for menor que o valor gerado ix, aumenta o número de acertos\n",
        "        pr = (c * (n - i) / (i + 1))* pr;  # atualiza a probabilidade de um novo número de acertos\n",
        "        F = F + pr;                        # atualiza a soma acumulada F\n",
        "        i = i + 1;                         # atualiza o número de acertos\n",
        "    a1=i                                   # armazena o número final de acertos para a amostra i\n",
        "    av=np.append(av,a1)                    # adiciona o número de acertos gerado à lista de resultados (av)\n",
        "\n",
        "for binvalue in av:       # para cada valor gerado em av\n",
        "    if binvalue <=value:   # verifica se o valor é menor ou igual ao número de acertos\n",
        "        count=count+1     # se sim, soma o contador\n",
        "\n",
        "\n",
        "# Calcula a probabilidade de ter exatamente 'value' acertos dividindo a contagem pelo número total de amostras\n",
        "prob=count/N\n",
        "\n",
        "# Calculo teórico\n",
        "# Fórmula: P(X ≤ 2) = P(X=0) + P(X=1) + P(X=2)\n",
        "# C(n, x) = n! / [x! * (n-x)!]\n",
        "# Para cada valor de X (0, 1 e 2), calcular P(X=x)\n",
        "for value in range(0, 3):\n",
        "    # Inicializa os fatoriais\n",
        "    fatorial_n = 1\n",
        "    fatorial_x = 1\n",
        "    fatorial_nx = 1\n",
        "\n",
        "    # Cálculo de n!\n",
        "    for i in range(1, n + 1):\n",
        "        fatorial_n *= i\n",
        "\n",
        "    # Cálculo de x!\n",
        "    for i in range(1, value + 1):\n",
        "        fatorial_x *= i\n",
        "\n",
        "    # Cálculo de (n - x)!\n",
        "    for i in range(1, (n - value) + 1):\n",
        "        fatorial_nx *= i\n",
        "\n",
        "    # Aplicação da fórmula da distribuição binomial para P(X=value)\n",
        "    prob_x = (fatorial_n / (fatorial_x * fatorial_nx)) * (q**value) * ((1 - q)**(n - value))\n",
        "\n",
        "    # Soma das probabilidades para P(X ≤ 2)\n",
        "    prob_analitica += prob_x\n",
        "\n",
        "# Exibe o resultado\n",
        "print(\"a probabilidade simulada e\",prob)\n",
        "print(\"a probabilidade analitica e\",prob_analitica)\n"
      ],
      "metadata": {
        "colab": {
          "base_uri": "https://localhost:8080/"
        },
        "id": "6a7kCFwnCP9Q",
        "outputId": "e5a78865-7cf0-4023-ca49-1665dc518db3"
      },
      "execution_count": 11,
      "outputs": [
        {
          "output_type": "stream",
          "name": "stdout",
          "text": [
            "a probabilidade simulada e 0.52559\n",
            "a probabilidade analitica e 0.5255928039550781\n"
          ]
        }
      ]
    },
    {
      "cell_type": "code",
      "source": [
        "# Exercício 3 - letra C\n",
        "\n",
        "import numpy as np\n",
        "\n",
        "q=0.25 #Probabilidade de acerto\n",
        "n=10 #Número de tentativas\n",
        "N = 100000  # Número de amostras para simulação\n",
        "\n",
        "media = n * q;\n",
        "desvio_padrao = np.sqrt(n*q*(1-q));\n",
        "\n",
        "print(\"A média de forma analítica é\", media)\n",
        "print(\"O desvio padrão de forma analítica é\", desvio_padrao)\n",
        "\n",
        "# Geração de N valores aleatórios seguindo a distribuição binomial\n",
        "x_simulado = np.zeros(N)  # Vetor para armazenar os valores simulados\n",
        "\n",
        "for k in range(N): # O loop percorre N vezes, simulando cada amostra.\n",
        "    sucessos = 0  # Contador de sucessos\n",
        "    for _ in range(n): # Para cada amostra, realiza n tentativas, pois está simulando uma variável binomial\n",
        "        if np.random.uniform(0, 1) < q:  # Teste de Bernoulli para cada tentativa\n",
        "            sucessos += 1  # Se houver sucessos aumenta o contador\n",
        "    x_simulado[k] = sucessos  # Armazena o número de sucessos\n",
        "\n",
        "# Cálculo da média e do desvio padrão a partir das amostras simuladas\n",
        "media_simulada = np.sum(x_simulado) / N  # Média das amostras é o somatório das amostras simuladas dividido pelo total de amostras\n",
        "variancia_simulada = np.sum((x_simulado - media_simulada) ** 2) / N  # Variância é a diferença das amostras simuladas pela média, ambos ao quadrado dividido pelo total\n",
        "desvio_padrao_simulado = np.sqrt(variancia_simulada)  # Desvio padrão é a raiz quadrada da variancia\n",
        "\n",
        "print(\"A média de forma simulada é\", media_simulada)\n",
        "print(\"O desvio padrão de forma simulada é\", desvio_padrao_simulado)\n"
      ],
      "metadata": {
        "colab": {
          "base_uri": "https://localhost:8080/"
        },
        "id": "urzliecRIIlH",
        "outputId": "fea38ca1-e68f-4339-84ac-b9da505684f4"
      },
      "execution_count": 13,
      "outputs": [
        {
          "output_type": "stream",
          "name": "stdout",
          "text": [
            "A média de forma analítica é 2.5\n",
            "O desvio padrão de forma analítica é 1.3693063937629153\n",
            "A média de forma simulada é 2.4931\n",
            "O desvio padrão de forma simulada é 1.3679080341894334\n"
          ]
        }
      ]
    }
  ]
}