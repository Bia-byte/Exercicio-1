{
  "nbformat": 4,
  "nbformat_minor": 0,
  "metadata": {
    "colab": {
      "provenance": [],
      "include_colab_link": true
    },
    "kernelspec": {
      "name": "python3",
      "display_name": "Python 3"
    },
    "language_info": {
      "name": "python"
    }
  },
  "cells": [
    {
      "cell_type": "markdown",
      "metadata": {
        "id": "view-in-github",
        "colab_type": "text"
      },
      "source": [
        "<a href=\"https://colab.research.google.com/github/Bia-byte/Exercicio-1/blob/main/Exercicio3.ipynb\" target=\"_parent\"><img src=\"https://colab.research.google.com/assets/colab-badge.svg\" alt=\"Open In Colab\"/></a>"
      ]
    },
    {
      "cell_type": "code",
      "execution_count": null,
      "metadata": {
        "id": "UinCIGjWhQy3",
        "colab": {
          "base_uri": "https://localhost:8080/"
        },
        "outputId": "32ec5d26-d260-44f0-e2b7-8345c1eb8b3c"
      },
      "outputs": [
        {
          "output_type": "stream",
          "name": "stdout",
          "text": [
            "Requirement already satisfied: numpy in /usr/local/lib/python3.11/dist-packages (2.0.2)\n"
          ]
        }
      ],
      "source": [
        "!pip install numpy"
      ]
    },
    {
      "cell_type": "code",
      "source": [
        "# Exercício 3 - letra A\n",
        "\n",
        "import numpy as np\n",
        "\n",
        "q=0.25 #Probabilidade de acerto\n",
        "n=10    #Número de tentativas\n",
        "value=3\n",
        "N=100000  #Número de amostras\n",
        "c = q/(1-q)\n",
        "av=np.array([])\n",
        "count=0\n",
        "x=np.random.uniform(0,1,N)\n",
        "for ix in x:\n",
        "    i = 0\n",
        "    pr = pow((1 - q),n)\n",
        "    F = pr\n",
        "    while ix>=F:\n",
        "        pr = (c * (n - i) / (i + 1))* pr;\n",
        "        F = F + pr;\n",
        "        i = i + 1;\n",
        "    a1=i\n",
        "    av=np.append(av,a1)\n",
        "\n",
        "for binvalue in av:\n",
        "    if binvalue==value:\n",
        "        count=count+1\n",
        "prob=count/N\n",
        "print(\"a probabilidade e\",prob)"
      ],
      "metadata": {
        "id": "cVTRKAQChRyg",
        "colab": {
          "base_uri": "https://localhost:8080/"
        },
        "outputId": "40cb4c84-21ba-4007-b0fb-d6ad2bda3c25"
      },
      "execution_count": 5,
      "outputs": [
        {
          "output_type": "stream",
          "name": "stdout",
          "text": [
            "a probabilidade e 0.2503\n"
          ]
        }
      ]
    },
    {
      "cell_type": "code",
      "source": [
        "# Exercício 3 - letra B\n",
        "\n",
        "import numpy as np\n",
        "\n",
        "\n",
        "q=0.25 #Probabilidade de acerto\n",
        "n=10 #Número de tentativas\n",
        "value=2\n",
        "N=100000 #Número de amostras\n",
        "\n",
        "c = q/(1-q)\n",
        "av=np.array([])\n",
        "count=0\n",
        "x=np.random.uniform(0,1,N)\n",
        "for ix in x:\n",
        "    i = 0\n",
        "    pr = pow((1 - q),n)\n",
        "    F = pr\n",
        "    while ix>=F:\n",
        "        pr = (c * (n - i) / (i + 1))* pr;\n",
        "        F = F + pr;\n",
        "        i = i + 1;\n",
        "    a1=i\n",
        "    av=np.append(av,a1)\n",
        "\n",
        "for binvalue in av:\n",
        "    if binvalue <= value:\n",
        "        count += 1\n",
        "prob = count / N\n",
        "print(\"A probabilidade de acertar no máximo 2 questões é\", prob)\n"
      ],
      "metadata": {
        "colab": {
          "base_uri": "https://localhost:8080/"
        },
        "id": "6a7kCFwnCP9Q",
        "outputId": "55204e15-9981-46b7-8eb6-e4c407ae9732"
      },
      "execution_count": 11,
      "outputs": [
        {
          "output_type": "stream",
          "name": "stdout",
          "text": [
            "A probabilidade de acertar no máximo 2 questões é 0.52351\n"
          ]
        }
      ]
    },
    {
      "cell_type": "code",
      "source": [
        "# Exercício 3 - letra C\n",
        "\n",
        "import numpy as np\n",
        "\n",
        "\n",
        "q=0.25 #Probabilidade de acerto\n",
        "n=10 #Número de tentativas\n",
        "\n",
        "media = n * q;\n",
        "desvio_padrao = np.sqrt(n*q*(1-q));\n",
        "\n",
        "print(\"A média é\", media)\n",
        "print(\"O desvio padrão é\", desvio_padrao)\n",
        "\n"
      ],
      "metadata": {
        "colab": {
          "base_uri": "https://localhost:8080/"
        },
        "id": "urzliecRIIlH",
        "outputId": "14f5cc21-fdea-4036-cc5b-9a18a41d4444"
      },
      "execution_count": 12,
      "outputs": [
        {
          "output_type": "stream",
          "name": "stdout",
          "text": [
            "A média é 2.5\n",
            "O desvio padrão é 1.3693063937629153\n"
          ]
        }
      ]
    }
  ]
}