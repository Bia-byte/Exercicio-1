{
  "nbformat": 4,
  "nbformat_minor": 0,
  "metadata": {
    "colab": {
      "provenance": [],
      "authorship_tag": "ABX9TyMu2JImKli6XL1f2wuS+SNv",
      "include_colab_link": true
    },
    "kernelspec": {
      "name": "python3",
      "display_name": "Python 3"
    },
    "language_info": {
      "name": "python"
    }
  },
  "cells": [
    {
      "cell_type": "markdown",
      "metadata": {
        "id": "view-in-github",
        "colab_type": "text"
      },
      "source": [
        "<a href=\"https://colab.research.google.com/github/Bia-byte/Exercicio-1/blob/main/Exercicio1.ipynb\" target=\"_parent\"><img src=\"https://colab.research.google.com/assets/colab-badge.svg\" alt=\"Open In Colab\"/></a>"
      ]
    },
    {
      "cell_type": "code",
      "execution_count": null,
      "metadata": {
        "colab": {
          "base_uri": "https://localhost:8080/"
        },
        "id": "W4PqDyynd51T",
        "outputId": "5c829dd3-4b95-4726-f57d-94782b83ac59"
      },
      "outputs": [
        {
          "output_type": "stream",
          "name": "stdout",
          "text": [
            "Requirement already satisfied: numpy in /usr/local/lib/python3.11/dist-packages (2.0.2)\n",
            "Requirement already satisfied: matplotlib in /usr/local/lib/python3.11/dist-packages (3.10.0)\n",
            "Requirement already satisfied: contourpy>=1.0.1 in /usr/local/lib/python3.11/dist-packages (from matplotlib) (1.3.1)\n",
            "Requirement already satisfied: cycler>=0.10 in /usr/local/lib/python3.11/dist-packages (from matplotlib) (0.12.1)\n",
            "Requirement already satisfied: fonttools>=4.22.0 in /usr/local/lib/python3.11/dist-packages (from matplotlib) (4.56.0)\n",
            "Requirement already satisfied: kiwisolver>=1.3.1 in /usr/local/lib/python3.11/dist-packages (from matplotlib) (1.4.8)\n",
            "Requirement already satisfied: numpy>=1.23 in /usr/local/lib/python3.11/dist-packages (from matplotlib) (2.0.2)\n",
            "Requirement already satisfied: packaging>=20.0 in /usr/local/lib/python3.11/dist-packages (from matplotlib) (24.2)\n",
            "Requirement already satisfied: pillow>=8 in /usr/local/lib/python3.11/dist-packages (from matplotlib) (11.1.0)\n",
            "Requirement already satisfied: pyparsing>=2.3.1 in /usr/local/lib/python3.11/dist-packages (from matplotlib) (3.2.1)\n",
            "Requirement already satisfied: python-dateutil>=2.7 in /usr/local/lib/python3.11/dist-packages (from matplotlib) (2.8.2)\n",
            "Requirement already satisfied: six>=1.5 in /usr/local/lib/python3.11/dist-packages (from python-dateutil>=2.7->matplotlib) (1.17.0)\n"
          ]
        }
      ],
      "source": [
        "!pip install numpy\n",
        "!pip install matplotlib"
      ]
    },
    {
      "cell_type": "code",
      "source": [
        "# Exercício 1 - letra A\n",
        "\n",
        "import numpy as np\n",
        "import matplotlib.pyplot as plt\n",
        "\n",
        "# Parâmetros\n",
        "x= 7              # semente x0\n",
        "x1=np.array([x])  # vetor para armazenar os números gerados, iniciando com a semente x0\n",
        "n=5               # número de valores desejados\n",
        "a=5               # constante multiplicadora\n",
        "c=3               # incremento\n",
        "m=16              # representa o módulo\n",
        "\n",
        "\n",
        "# Loop para gerar os valores da sequência pseudoaleatória\n",
        "# O loop é executado 5 vezes, ou seja o GLC gera 5 valores além do inicial (x =7)\n",
        "# Em cada iteração, calcula um novo número usando a fórmula do GLC\n",
        "# O novo número é armazenado no array\n",
        "for i in range(n):\n",
        "    x=(a*x+c)%m          # fórmula do Gerador Linear Congruente (GLC) Misto\n",
        "    x1=np.append(x1,x)   # adiciona o novo valor gerado ao vetor de saída\n",
        "\n",
        "# Exibindo os resultados\n",
        "print(\"Números gerados:\", x1)\n",
        "ind=np.arange(n+1)\n",
        "plt.bar(ind, x1)\n",
        "plt.title(\"Gerador Linear Congruente (GLC)\")\n",
        "plt.show()\n"
      ],
      "metadata": {
        "colab": {
          "base_uri": "https://localhost:8080/",
          "height": 470
        },
        "id": "BzBO67Aed7Y1",
        "outputId": "b18f7fbe-3f15-4b8b-c58c-833f7d3f55e2"
      },
      "execution_count": null,
      "outputs": [
        {
          "output_type": "stream",
          "name": "stdout",
          "text": [
            "Números gerados: [ 7  6  1  8 11 10]\n"
          ]
        },
        {
          "output_type": "display_data",
          "data": {
            "text/plain": [
              "<Figure size 640x480 with 1 Axes>"
            ],
            "image/png": "[encoded data removed]"
          },
          "metadata": {}
        }
      ]
    },
    {
      "cell_type": "code",
      "source": [
        "# Exercício 1 - letra B\n",
        "\n",
        "import numpy as np\n",
        "import matplotlib.pyplot as plt\n",
        "\n",
        "# Parâmetros\n",
        "x = 7              # semente x0\n",
        "a = 5              # constante multiplicadora\n",
        "c = 3              # incremento\n",
        "m = 16             # representa o módulo\n",
        "cond = 0           # contador para ver se todas as condições então ok\n",
        "\n",
        "# Primeira condição: m e c devem ser primos entre si\n",
        "# Inicializa o MDC como 1, ou seja como se eles já fossem primos\n",
        "# O laço começa em 2 porque 1 é divisor comum de todos os números e não afeta a verificação\n",
        "# O limite máximo do loop é min(m, c), pois um número não pode ter um divisor maior que ele mesmo\n",
        "# O + 1 é para incluir o valor de min(m, c) também\n",
        "mdc = 1\n",
        "for i in range(2, min(m, c) + 1):  # testa todos os divisores comuns de m e c\n",
        "    if m % i == 0 and c % i == 0:  # se i divide por m e por c, sendo o resto da divisão 0\n",
        "        mdc = i  # Se encontrar um divisor comum, armazena e atualiza\n",
        "        break  # sai do laço assim que encontrar um divisor comum\n",
        "\n",
        "# Aqui verifica o resultado do loop\n",
        "if mdc == 1:\n",
        "    print(\"Primeira condição OK!, m e c são primos entre si\")\n",
        "    cond = cond + 1\n",
        "else:\n",
        "    print(\"Os valores de m e c não são primos entre si\")\n",
        "\n",
        "# Segunda condição: todo primo que divide m, também deve dividir (a - 1)\n",
        "# O laço começa em 2 porque 1 é divisor comum de todos os números e não afeta a verificação\n",
        "for p in range(2, m + 1):\n",
        "    if m % p == 0:  # Se p for um divisor de m, ou seja se o resto da divisão entre m e p é zero\n",
        "        # Entra em outro if e verifica se p também divide (a - 1)\n",
        "        if (a - 1) % p != 0:\n",
        "            print(\"O primo p divide m, mas não divide (a - 1)\")\n",
        "        else:\n",
        "          cond = cond + 1\n",
        "          print(\"Segunda condição OK!, todo primo que divide m, também deve dividir (a - 1)\")\n",
        "          break\n",
        "\n",
        "# Terceira condição: (a - 1) é um múltiplo de 4, se o inteiro m é múltiplo de 4\n",
        "if m % 4 == 0 and (a - 1) % 4 != 0:\n",
        "    print(\"m é múltiplo de 4, mas (a - 1) não é\")\n",
        "elif m % 4 != 0 and (a - 1) % 4 == 0:\n",
        "    print(\"(a - 1) é múltiplo de 4, mas m não é\")\n",
        "else:\n",
        "    cond = cond + 1\n",
        "    print(\"Terceira condição OK!, (a - 1) é um múltiplo de 4, se o inteiro m é múltiplo de 4\")\n",
        "\n",
        "# Se todas as condições forem atendidas, ou seja, cond = 3, gerar a sequência pseudoaleatória\n",
        "if cond == 3:\n",
        "    valores = []  # lista que armazena todos os valores gerados\n",
        "    while True:\n",
        "        if x in valores:  # verifica se o valor gerado já foi adicionado à lista\n",
        "            valores.append(x)  # inclui o valor repetido explicitamente\n",
        "            break  # encerra ao detectar a repetição\n",
        "        else:\n",
        "            valores.append(x)  # adiciona o valor gerado à lista\n",
        "            x = (a * x + c) % m  # calcula o próximo valor com a fórmula\n",
        "\n",
        "    periodo = len(valores) - 1  # exclui o último valor (repetido) da contagem\n",
        "\n",
        "    # Exibição dos resultados\n",
        "    print(f\"O período do gerador é: {periodo}\")\n",
        "    print(\"Valores gerados até a repetição (incluindo a repetição):\", valores)\n",
        "    ind = np.arange(len(valores))\n",
        "    plt.bar(ind, valores)\n",
        "    plt.title(f\"Gerador Linear Congruente (GLC) misto - {periodo} primeiros valores\")\n",
        "    plt.show()\n",
        "\n",
        "else:\n",
        "  print(\"Não atendeu os requisitos para um Gerador Linear Congruente (GLC) misto\")\n",
        "\n"
      ],
      "metadata": {
        "colab": {
          "base_uri": "https://localhost:8080/",
          "height": 543
        },
        "id": "ObEnXTTxttRG",
        "outputId": "d00098d5-7280-47e0-cfe2-e1e0bf466d74"
      },
      "execution_count": null,
      "outputs": [
        {
          "output_type": "stream",
          "name": "stdout",
          "text": [
            "Primeira condição OK!, m e c são primos entre si\n",
            "Segunda condição OK!, todo primo que divide m, também deve dividir (a - 1)\n",
            "Terceira condição OK!, (a - 1) é um múltiplo de 4, se o inteiro m é múltiplo de 4\n",
            "O período do gerador é: 16\n",
            "Valores gerados até a repetição (incluindo a repetição): [7, 6, 1, 8, 11, 10, 5, 12, 15, 14, 9, 0, 3, 2, 13, 4, 7]\n"
          ]
        },
        {
          "output_type": "display_data",
          "data": {
            "text/plain": [
              "<Figure size 640x480 with 1 Axes>"
            ],
            "image/png": "[encoded data removed]"
          },
          "metadata": {}
        }
      ]
    }
  ]
}